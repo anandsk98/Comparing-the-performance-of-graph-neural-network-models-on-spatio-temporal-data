{
 "cells": [
  {
   "cell_type": "markdown",
   "metadata": {
    "id": "OVp0qeJL_nSm"
   },
   "source": [
    "# Traffic Forecasting with Pytorch Geometric Temporal\n"
   ]
  },
  {
   "cell_type": "markdown",
   "metadata": {
    "id": "MaEHCakD_s7q"
   },
   "source": [
    "## Installation"
   ]
  },
  {
   "cell_type": "code",
   "execution_count": 1,
   "metadata": {
    "colab": {
     "base_uri": "https://localhost:8080/"
    },
    "id": "svWjrrJxjp8B",
    "outputId": "582ee9c5-4d24-4555-b331-bf7173fd2106",
    "scrolled": true
   },
   "outputs": [
    {
     "name": "stdout",
     "output_type": "stream",
     "text": [
      "1.11.0\n"
     ]
    }
   ],
   "source": [
    "import torch\n",
    "from IPython.display import clear_output\n",
    "pt_version = torch.__version__\n",
    "print(pt_version)"
   ]
  },
  {
   "cell_type": "code",
   "execution_count": 2,
   "metadata": {},
   "outputs": [],
   "source": [
    "import numpy as np"
   ]
  },
  {
   "cell_type": "markdown",
   "metadata": {
    "id": "824V69yXsSub"
   },
   "source": [
    "This took some time for me, so be patient :)"
   ]
  },
  {
   "cell_type": "code",
   "execution_count": null,
   "metadata": {
    "id": "NjWHdw_Dj3KQ"
   },
   "outputs": [],
   "source": []
  },
  {
   "cell_type": "markdown",
   "metadata": {
    "id": "W2nTO8PH_vlf"
   },
   "source": [
    "## Dataset\n",
    "- Traffic forecasting dataset based on Los Angeles Metropolitan traffic \n",
    "- 207 loop detectors on highways\n",
    "- March 2012 - June 2012\n",
    "- From the paper: Diffusion Convolutional Recurrent Neural Network\n"
   ]
  },
  {
   "cell_type": "code",
   "execution_count": 3,
   "metadata": {
    "colab": {
     "base_uri": "https://localhost:8080/"
    },
    "id": "iOc-jbFckFHn",
    "outputId": "fdbeefdd-1376-434a-f3a3-6d6cb953621c"
   },
   "outputs": [
    {
     "name": "stdout",
     "output_type": "stream",
     "text": [
      "Dataset type:   <torch_geometric_temporal.signal.static_graph_temporal_signal.StaticGraphTemporalSignal object at 0x00000239839697C0>\n",
      "Number of samples / sequences:  34249\n"
     ]
    }
   ],
   "source": [
    "from torch_geometric_temporal.dataset import METRLADatasetLoader\n",
    "loader = METRLADatasetLoader()\n",
    "dataset = loader.get_dataset(num_timesteps_in=12, num_timesteps_out=12)\n",
    "print(\"Dataset type:  \", dataset)\n",
    "print(\"Number of samples / sequences: \",  len(set(dataset)))"
   ]
  },
  {
   "cell_type": "markdown",
   "metadata": {
    "id": "r2zO_CjYBQSt"
   },
   "source": [
    "#### Data Sample\n",
    "- 207 nodes\n",
    "- 2 features per node (speed, time)\n",
    "- 12 timesteps per bucket (12 x 5 min = 60 min) \n",
    "- Labels for 12 future timesteps (normalized speed) --> node regression\n",
    "- Edge_attr is build based on the distances between sensors + threshold\n",
    "- Further details: https://pytorch-geometric-temporal.readthedocs.io/en/latest/_modules/torch_geometric_temporal/dataset/metr_la.html#METRLADatasetLoader\n",
    "- Raw data: https://graphmining.ai/temporal_datasets/METR-LA.zip"
   ]
  },
  {
   "cell_type": "code",
   "execution_count": 4,
   "metadata": {
    "colab": {
     "base_uri": "https://localhost:8080/"
    },
    "id": "ClWnMrz0Anjr",
    "outputId": "313bc665-76a0-4546-e8ee-ff1012d345b2"
   },
   "outputs": [
    {
     "data": {
      "text/plain": [
       "Data(x=[207, 2, 12], edge_index=[2, 1722], edge_attr=[1722], y=[207, 12])"
      ]
     },
     "execution_count": 4,
     "metadata": {},
     "output_type": "execute_result"
    }
   ],
   "source": [
    "# Show first sample\n",
    "next(iter(dataset))"
   ]
  },
  {
   "cell_type": "code",
   "execution_count": null,
   "metadata": {
    "colab": {
     "base_uri": "https://localhost:8080/",
     "height": 282
    },
    "id": "EzrkqXPxFwIx",
    "outputId": "2c21823c-86ee-4110-9c4f-f20b3813d225"
   },
   "outputs": [],
   "source": [
    "import seaborn as sns\n",
    "# Visualize traffic over time\n",
    "sensor_number = 1\n",
    "hours = 24\n",
    "sensor_labels = [bucket.y[sensor_number][0].item() for bucket in list(dataset)[:hours]]\n",
    "sns.lineplot(data=sensor_labels)"
   ]
  },
  {
   "cell_type": "markdown",
   "metadata": {
    "id": "8ZqDAqQdBS8Q"
   },
   "source": [
    "#### Test Train Split"
   ]
  },
  {
   "cell_type": "code",
   "execution_count": 5,
   "metadata": {
    "colab": {
     "base_uri": "https://localhost:8080/"
    },
    "id": "ZMn2LXERsyVK",
    "outputId": "8f09361a-ea27-448a-eec7-a7b0fdf753da"
   },
   "outputs": [
    {
     "name": "stdout",
     "output_type": "stream",
     "text": [
      "Number of train buckets:  27399\n",
      "Number of test buckets:  6850\n"
     ]
    }
   ],
   "source": [
    "from torch_geometric_temporal.signal import temporal_signal_split\n",
    "train_dataset, test_dataset = temporal_signal_split(dataset, train_ratio=0.8)\n",
    "\n",
    "print(\"Number of train buckets: \", len(set(train_dataset)))\n",
    "print(\"Number of test buckets: \", len(set(test_dataset)))"
   ]
  },
  {
   "cell_type": "markdown",
   "metadata": {
    "id": "n1puzm8U_xpY"
   },
   "source": [
    "## Model\n",
    "\n",
    "Which model to choose depends on which time-series task you work on. \n",
    "\n",
    "- A3TGCN is an extension of TGCN that uses attention \n",
    "- The spatial aggregation uses GCN, the temporal aggregation a GRU\n",
    "- We can pass in periods to get an embedding for several timesteps\n",
    "- This embedding can be used to predict several steps into the future = output dimension\n",
    "- We could also do this in a loop and feed it again into the model (would be autoregressive)\n",
    "- There is only one block here. Other layers also allow stacking???"
   ]
  },
  {
   "cell_type": "code",
   "execution_count": 6,
   "metadata": {
    "colab": {
     "base_uri": "https://localhost:8080/"
    },
    "id": "gQB8MPV0sU4K",
    "outputId": "8b72a1fe-1f6f-46a0-df76-fd9a62128c7e"
   },
   "outputs": [
    {
     "data": {
      "text/plain": [
       "TemporalGNN(\n",
       "  (tgnn): A3TGCN(\n",
       "    (_base_tgcn): TGCN(\n",
       "      (conv_z): GCNConv(2, 32)\n",
       "      (linear_z): Linear(in_features=64, out_features=32, bias=True)\n",
       "      (conv_r): GCNConv(2, 32)\n",
       "      (linear_r): Linear(in_features=64, out_features=32, bias=True)\n",
       "      (conv_h): GCNConv(2, 32)\n",
       "      (linear_h): Linear(in_features=64, out_features=32, bias=True)\n",
       "    )\n",
       "  )\n",
       "  (linear): Linear(in_features=32, out_features=12, bias=True)\n",
       ")"
      ]
     },
     "execution_count": 6,
     "metadata": {},
     "output_type": "execute_result"
    }
   ],
   "source": [
    "import torch\n",
    "import torch.nn.functional as F\n",
    "from torch_geometric_temporal.nn.recurrent import A3TGCN\n",
    "\n",
    "class TemporalGNN(torch.nn.Module):\n",
    "    def __init__(self, node_features, periods):\n",
    "        super(TemporalGNN, self).__init__()\n",
    "        # Attention Temporal Graph Convolutional Cell\n",
    "        self.tgnn = A3TGCN(in_channels=node_features, \n",
    "                           out_channels=32, \n",
    "                           periods=periods)\n",
    "        # Equals single-shot prediction\n",
    "        self.linear = torch.nn.Linear(32, periods)\n",
    "\n",
    "    def forward(self, x, edge_index):\n",
    "        \"\"\"\n",
    "        x = Node features for T time steps\n",
    "        edge_index = Graph edge indices\n",
    "        \"\"\"\n",
    "        h = self.tgnn(x, edge_index)\n",
    "        h = F.relu(h)\n",
    "        h = self.linear(h)\n",
    "        return h\n",
    "\n",
    "TemporalGNN(node_features=2, periods=12)"
   ]
  },
  {
   "cell_type": "code",
   "execution_count": 11,
   "metadata": {},
   "outputs": [
    {
     "name": "stdout",
     "output_type": "stream",
     "text": [
      "Collecting torchsummary\n",
      "  Downloading torchsummary-1.5.1-py3-none-any.whl (2.8 kB)\n",
      "Installing collected packages: torchsummary\n",
      "Successfully installed torchsummary-1.5.1\n"
     ]
    }
   ],
   "source": [
    "!pip install torchsummary"
   ]
  },
  {
   "cell_type": "code",
   "execution_count": 18,
   "metadata": {},
   "outputs": [
    {
     "ename": "AttributeError",
     "evalue": "module 'torchvision.models' has no attribute 'TemporalGNN'",
     "output_type": "error",
     "traceback": [
      "\u001b[1;31m---------------------------------------------------------------------------\u001b[0m",
      "\u001b[1;31mAttributeError\u001b[0m                            Traceback (most recent call last)",
      "\u001b[1;32m~\\AppData\\Local\\Temp/ipykernel_5916/121457888.py\u001b[0m in \u001b[0;36m<module>\u001b[1;34m\u001b[0m\n\u001b[0;32m      1\u001b[0m \u001b[1;32mfrom\u001b[0m \u001b[0mtorchvision\u001b[0m \u001b[1;32mimport\u001b[0m \u001b[0mmodels\u001b[0m\u001b[1;33m\u001b[0m\u001b[1;33m\u001b[0m\u001b[0m\n\u001b[0;32m      2\u001b[0m \u001b[0mdevice\u001b[0m \u001b[1;33m=\u001b[0m \u001b[0mtorch\u001b[0m\u001b[1;33m.\u001b[0m\u001b[0mdevice\u001b[0m\u001b[1;33m(\u001b[0m\u001b[1;34m'cpu'\u001b[0m\u001b[1;33m)\u001b[0m \u001b[1;31m# cuda\u001b[0m\u001b[1;33m\u001b[0m\u001b[1;33m\u001b[0m\u001b[0m\n\u001b[1;32m----> 3\u001b[1;33m \u001b[0mmodel\u001b[0m \u001b[1;33m=\u001b[0m \u001b[0mmodels\u001b[0m\u001b[1;33m.\u001b[0m\u001b[0mTemporalGNN\u001b[0m\u001b[1;33m(\u001b[0m\u001b[0mnode_features\u001b[0m\u001b[1;33m=\u001b[0m\u001b[1;36m2\u001b[0m\u001b[1;33m,\u001b[0m \u001b[0mperiods\u001b[0m\u001b[1;33m=\u001b[0m\u001b[1;36m12\u001b[0m\u001b[1;33m)\u001b[0m\u001b[1;33m.\u001b[0m\u001b[0mto\u001b[0m\u001b[1;33m(\u001b[0m\u001b[0mdevice\u001b[0m\u001b[1;33m)\u001b[0m\u001b[1;33m\u001b[0m\u001b[1;33m\u001b[0m\u001b[0m\n\u001b[0m\u001b[0;32m      4\u001b[0m \u001b[1;33m\u001b[0m\u001b[0m\n\u001b[0;32m      5\u001b[0m \u001b[0mmodel\u001b[0m\u001b[1;33m\u001b[0m\u001b[1;33m\u001b[0m\u001b[0m\n",
      "\u001b[1;31mAttributeError\u001b[0m: module 'torchvision.models' has no attribute 'TemporalGNN'"
     ]
    }
   ],
   "source": [
    "from torchvision import models\n",
    "device = torch.device('cpu') # cuda\n",
    "model = models.TemporalGNN(node_features=2, periods=12).to(device)\n",
    "\n",
    "model"
   ]
  },
  {
   "cell_type": "markdown",
   "metadata": {
    "id": "RDbNmvO2_znb"
   },
   "source": [
    "## Training\n",
    "\n",
    "- Training on GPU didn't bring much speed-up\n",
    "- I ran into RAM issues, why I only train on a smaller subset of the data"
   ]
  },
  {
   "cell_type": "code",
   "execution_count": 7,
   "metadata": {},
   "outputs": [],
   "source": [
    "torch.cuda.empty_cache()"
   ]
  },
  {
   "cell_type": "code",
   "execution_count": 18,
   "metadata": {},
   "outputs": [],
   "source": [
    "import math"
   ]
  },
  {
   "cell_type": "code",
   "execution_count": 27,
   "metadata": {},
   "outputs": [
    {
     "name": "stdout",
     "output_type": "stream",
     "text": [
      "Running training...\n",
      "Epoch 0 train MAE: 0.6670\n",
      "611.6582225802249\n",
      "tensor(331710.)\n",
      "611.6582225802249\n",
      "tensor(331710.)\n",
      "Epoch 1 train MAE: 0.6479\n",
      "1472.9140643601227\n",
      "tensor(985629.5625)\n",
      "736.4570321800613\n",
      "tensor(492814.7812)\n",
      "Epoch 2 train MAE: 0.6304\n",
      "2523.858282670495\n",
      "tensor(1953042.7500)\n",
      "841.2860942234984\n",
      "tensor(651014.2500)\n",
      "Epoch 3 train MAE: 0.6112\n",
      "3733.2032499978495\n",
      "tensor(3224423.)\n",
      "933.3008124994624\n",
      "tensor(806105.7500)\n",
      "Epoch 4 train MAE: 0.5894\n",
      "5080.763870155622\n",
      "tensor(4788911.)\n",
      "1016.1527740311243\n",
      "tensor(957782.1875)\n",
      "Epoch 5 train MAE: 0.5655\n",
      "6552.288759513596\n",
      "tensor(6634608.)\n",
      "1092.0481265855994\n",
      "tensor(1105768.)\n",
      "Epoch 6 train MAE: 0.5415\n",
      "8137.411625413903\n",
      "tensor(8749589.)\n",
      "1162.487375059129\n",
      "tensor(1249941.2500)\n",
      "Epoch 7 train MAE: 0.5198\n",
      "9828.616964809447\n",
      "tensor(11123088.)\n",
      "1228.577120601181\n",
      "tensor(1390386.)\n",
      "Epoch 8 train MAE: 0.5032\n",
      "11620.565694544759\n",
      "tensor(13746839.)\n",
      "1291.1739660605288\n",
      "tensor(1527426.5000)\n",
      "Epoch 9 train MAE: 0.4933\n",
      "13509.36518099111\n",
      "tensor(16615910.)\n",
      "1350.936518099111\n",
      "tensor(1661591.)\n"
     ]
    }
   ],
   "source": [
    "# GPU support\n",
    "\n",
    "device = torch.device('cpu') # cuda\n",
    "subset = 2000\n",
    "running_mae = 0\n",
    "running_mse = 0\n",
    "\n",
    "# Create model and optimizers\n",
    "model = TemporalGNN(node_features=2, periods=12).to(device)\n",
    "optimizer = torch.optim.Adam(model.parameters(), lr=0.01)\n",
    "model.train()\n",
    "rmse =[]\n",
    "mae = []\n",
    "\n",
    "print(\"Running training...\")\n",
    "for epoch in range(10): \n",
    "    loss = 0\n",
    "    step = 0\n",
    "    for snapshot in train_dataset:\n",
    "        snapshot = snapshot.to(device)\n",
    "        # Get model predictions\n",
    "        y_hat = model(snapshot.x, snapshot.edge_index)\n",
    "        # Mean squared error\n",
    "        loss = loss + torch.mean(abs(y_hat-snapshot.y)) \n",
    "        \n",
    "        error = torch.abs(y_hat-snapshot.y).sum().data\n",
    "        squared_error = ((y_hat-snapshot.y)*(y_hat-snapshot.y)).sum().data\n",
    "        running_mae += error\n",
    "        running_mse += squared_error\n",
    "        \n",
    "        \n",
    "        step += 1\n",
    "        if step > subset:\n",
    "          break\n",
    "        \n",
    "    \n",
    "    rmse.append(math.sqrt(running_mse/10))\n",
    "    mae.append(running_mae/10)\n",
    "    \n",
    "    loss = loss / (step + 1)\n",
    "    loss.backward()\n",
    "    optimizer.step()\n",
    "    optimizer.zero_grad()\n",
    "    \n",
    "        \n",
    "    print(\"Epoch {} train MAE: {:.4f}\".format(epoch, loss.item()))\n",
    "    \n",
    "    print(sum(rmse))\n",
    "    print(sum(mae))\n",
    "    print(sum(rmse)/len(rmse))\n",
    "    print(sum(mae)/len(mae))\n",
    "\n"
   ]
  },
  {
   "cell_type": "code",
   "execution_count": 26,
   "metadata": {},
   "outputs": [
    {
     "name": "stdout",
     "output_type": "stream",
     "text": [
      "612.7315123689983\n",
      "tensor(332989.5312)\n",
      "612.7315123689983\n",
      "tensor(332989.5312)\n"
     ]
    }
   ],
   "source": [
    "print(sum(rmse))\n",
    "print(sum(mae))\n",
    "print(sum(rmse)/len(rmse))\n",
    "print(sum(mae)/len(mae))"
   ]
  },
  {
   "cell_type": "code",
   "execution_count": 30,
   "metadata": {
    "colab": {
     "base_uri": "https://localhost:8080/"
    },
    "id": "7kOvaOrps2oe",
    "outputId": "59663f23-48cc-4c81-cd33-9ace1c0f82a0"
   },
   "outputs": [
    {
     "name": "stdout",
     "output_type": "stream",
     "text": [
      "Running training...\n",
      "Epoch 0 train MSE: 0.7485\n",
      "Epoch 1 train MSE: 0.7286\n",
      "Epoch 2 train MSE: 0.7085\n",
      "Epoch 3 train MSE: 0.6871\n",
      "Epoch 4 train MSE: 0.6652\n",
      "Epoch 5 train MSE: 0.6448\n",
      "Epoch 6 train MSE: 0.6280\n",
      "Epoch 7 train MSE: 0.6148\n",
      "Epoch 8 train MSE: 0.6026\n",
      "Epoch 9 train MSE: 0.5890\n"
     ]
    }
   ],
   "source": [
    "# GPU support\n",
    "\n",
    "device = torch.device('cpu') # cuda\n",
    "subset = 2000\n",
    "\n",
    "# Create model and optimizers\n",
    "model = TemporalGNN(node_features=2, periods=12).to(device)\n",
    "optimizer = torch.optim.Adam(model.parameters(), lr=0.01)\n",
    "model.train()\n",
    "\n",
    "print(\"Running training...\")\n",
    "for epoch in range(10): \n",
    "    loss = 0\n",
    "    step = 0\n",
    "    for snapshot in train_dataset:\n",
    "        snapshot = snapshot.to(device)\n",
    "        # Get model predictions\n",
    "        y_hat = model(snapshot.x, snapshot.edge_index)\n",
    "        # Mean squared error\n",
    "        loss = loss + torch.mean((y_hat-snapshot.y)**2) \n",
    "        step += 1\n",
    "        if step > subset:\n",
    "          break\n",
    "\n",
    "    loss = loss / (step + 1)\n",
    "    loss.backward()\n",
    "    optimizer.step()\n",
    "    optimizer.zero_grad()\n",
    "    print(\"Epoch {} train MSE: {:.4f}\".format(epoch, loss.item()))"
   ]
  },
  {
   "cell_type": "markdown",
   "metadata": {
    "id": "X18pWbNsPSjb"
   },
   "source": [
    "## Evaluation\n",
    "\n",
    "- Lets get some sample predictions for a specific horizon (e.g. 288/12 = 24 hours)\n",
    "- The model always gets one hour and needs to predict the next hour"
   ]
  },
  {
   "cell_type": "code",
   "execution_count": 8,
   "metadata": {},
   "outputs": [
    {
     "name": "stdout",
     "output_type": "stream",
     "text": [
      "Test MAE: 0.5451\n"
     ]
    }
   ],
   "source": [
    "model.eval()\n",
    "loss = 0\n",
    "step = 0\n",
    "horizon = 288\n",
    "\n",
    "# Store for analysis\n",
    "predictions = []\n",
    "labels = []\n",
    "\n",
    "for snapshot in test_dataset:\n",
    "    snapshot = snapshot.to(device)\n",
    "    # Get predictions\n",
    "    y_hat = model(snapshot.x, snapshot.edge_index)\n",
    "    # Mean squared error\n",
    "    loss = loss + torch.mean(abs(y_hat-snapshot.y))\n",
    "    # Store for analysis below\n",
    "    labels.append(snapshot.y)\n",
    "    predictions.append(y_hat)\n",
    "    step += 1\n",
    "    if step > horizon:\n",
    "          break\n",
    "\n",
    "loss = loss / (step+1)\n",
    "loss = loss.item()\n",
    "print(\"Test MAE: {:.4f}\".format(loss))"
   ]
  },
  {
   "cell_type": "code",
   "execution_count": 31,
   "metadata": {
    "colab": {
     "base_uri": "https://localhost:8080/"
    },
    "id": "hNERp-_xs27y",
    "outputId": "121301fa-33f6-445d-b170-365232a510c1"
   },
   "outputs": [
    {
     "name": "stdout",
     "output_type": "stream",
     "text": [
      "Test MSE: 0.6930\n"
     ]
    }
   ],
   "source": [
    "model.eval()\n",
    "loss = 0\n",
    "step = 0\n",
    "horizon = 288\n",
    "\n",
    "# Store for analysis\n",
    "predictions = []\n",
    "labels = []\n",
    "\n",
    "for snapshot in test_dataset:\n",
    "    snapshot = snapshot.to(device)\n",
    "    # Get predictions\n",
    "    y_hat = model(snapshot.x, snapshot.edge_index)\n",
    "    # Mean squared error\n",
    "    loss = loss + torch.mean((y_hat-snapshot.y)**2)\n",
    "    # Store for analysis below\n",
    "    labels.append(snapshot.y)\n",
    "    predictions.append(y_hat)\n",
    "    step += 1\n",
    "    if step > horizon:\n",
    "          break\n",
    "\n",
    "loss = loss / (step+1)\n",
    "loss = loss.item()\n",
    "print(\"Test MSE: {:.4f}\".format(loss))"
   ]
  },
  {
   "cell_type": "markdown",
   "metadata": {
    "id": "wIVZyX1b_IPA"
   },
   "source": [
    "### Visualization\n",
    "\n",
    "- The further away the point in time is, the worse the predictions get\n",
    "- Predictions shape: [num_data_points, num_sensors, num_timesteps]"
   ]
  },
  {
   "cell_type": "code",
   "execution_count": 32,
   "metadata": {
    "colab": {
     "base_uri": "https://localhost:8080/"
    },
    "id": "J5AJPBdRMb4b",
    "outputId": "97e74597-a5d9-42d6-b31f-e4dcfb61e7f7"
   },
   "outputs": [
    {
     "name": "stdout",
     "output_type": "stream",
     "text": [
      "Data points:, (289,)\n"
     ]
    }
   ],
   "source": [
    "import numpy as np\n",
    "\n",
    "sensor = 123\n",
    "timestep = 11 \n",
    "preds = np.asarray([pred[sensor][timestep].detach().cpu().numpy() for pred in predictions])\n",
    "labs  = np.asarray([label[sensor][timestep].cpu().numpy() for label in labels])\n",
    "print(\"Data points:,\", preds.shape)"
   ]
  },
  {
   "cell_type": "code",
   "execution_count": null,
   "metadata": {
    "colab": {
     "base_uri": "https://localhost:8080/",
     "height": 337
    },
    "id": "08wwv2qUR7z9",
    "outputId": "320807bf-8403-4dbf-d43b-4e1575d51f69"
   },
   "outputs": [],
   "source": [
    "import matplotlib.pyplot as plt \n",
    "import seaborn as sns\n",
    "\n",
    "plt.figure(figsize=(20,5))\n",
    "sns.lineplot(data=preds, label=\"pred\")\n",
    "sns.lineplot(data=labs, label=\"true\")"
   ]
  },
  {
   "cell_type": "markdown",
   "metadata": {
    "id": "g3GC5nmwSde0"
   },
   "source": [
    "# Spatial features only"
   ]
  },
  {
   "cell_type": "code",
   "execution_count": 21,
   "metadata": {},
   "outputs": [
    {
     "name": "stdout",
     "output_type": "stream",
     "text": [
      "Dataset type:   <torch_geometric_temporal.signal.static_graph_temporal_signal.StaticGraphTemporalSignal object at 0x000001869E17D430>\n",
      "Number of samples / sequences:  34271\n"
     ]
    }
   ],
   "source": [
    "from torch_geometric_temporal.dataset import METRLADatasetLoader\n",
    "loader = METRLADatasetLoader()\n",
    "dataset = loader.get_dataset(num_timesteps_in=1, num_timesteps_out=1)\n",
    "print(\"Dataset type:  \", dataset)\n",
    "print(\"Number of samples / sequences: \",  len(set(dataset)))"
   ]
  },
  {
   "cell_type": "code",
   "execution_count": 22,
   "metadata": {},
   "outputs": [
    {
     "data": {
      "text/plain": [
       "Data(x=[207, 2, 1], edge_index=[2, 1722], edge_attr=[1722], y=[207, 1])"
      ]
     },
     "execution_count": 22,
     "metadata": {},
     "output_type": "execute_result"
    }
   ],
   "source": [
    "next(iter(dataset))"
   ]
  },
  {
   "cell_type": "code",
   "execution_count": 32,
   "metadata": {},
   "outputs": [],
   "source": [
    "from torch.nn import Linear, ReLU\n",
    "from torch_geometric.nn import Sequential, GCNConv\n",
    "\n",
    "model = Sequential('x, edge_index', [\n",
    "    (GCNConv(1, 64), 'x, edge_index -> x'),\n",
    "    ReLU(inplace=True),\n",
    "    (GCNConv(64, 64), 'x, edge_index -> x'),\n",
    "    ReLU(inplace=True),\n",
    "    Linear(64, 1),\n",
    "])"
   ]
  },
  {
   "cell_type": "code",
   "execution_count": 33,
   "metadata": {},
   "outputs": [],
   "source": [
    "import torch"
   ]
  },
  {
   "cell_type": "code",
   "execution_count": 34,
   "metadata": {},
   "outputs": [],
   "source": [
    "torch.cuda.empty_cache()"
   ]
  },
  {
   "cell_type": "code",
   "execution_count": 15,
   "metadata": {},
   "outputs": [],
   "source": [
    "loss_values = [6.25,3.927,3.926,3.925,3.924,3.923,3.922,3.922,3.921,3.921]\n",
    "val_values = [3.93,3.94,3.93,3.96,3.95,3.93,3.91,3.92,3.909,3.90]"
   ]
  },
  {
   "cell_type": "code",
   "execution_count": 17,
   "metadata": {},
   "outputs": [
    {
     "data": {
      "image/png": "[encoded data removed]",
      "text/plain": [
       "<Figure size 432x288 with 1 Axes>"
      ]
     },
     "metadata": {
      "needs_background": "light"
     },
     "output_type": "display_data"
    }
   ],
   "source": [
    "import matplotlib.pyplot as plt\n",
    "\n",
    "plt.plot(loss_values,'b-',label = 'train')\n",
    "plt.plot(val_values,'r-', label = 'validation')\n",
    "plt.legend(loc=\"upper right\")\n",
    "plt.title(\"DCRNN Loss curve\")\n",
    "plt.xlabel(\"Number of epochs\")\n",
    "plt.ylabel(\"Loss\")\n",
    "plt.savefig('foo.png')\n",
    "plt.show()\n"
   ]
  },
  {
   "cell_type": "markdown",
   "metadata": {},
   "source": [
    "loss_values = [0.66,0.64,0.63,0.61,0.58,0.56,0.53,0.50,0.48,0.487]\n",
    "\n",
    "import matplotlib.pyplot as plt\n",
    "\n",
    "plt.plot(loss_values,'b-',label = 'train')\n",
    "plt.legend(loc=\"upper right\")\n",
    "plt.title(\"A3TGCN Loss curve\")\n",
    "plt.xlabel(\"Number of epochs\")\n",
    "plt.ylabel(\"Loss\")\n",
    "plt.savefig('foo.png')\n",
    "plt.show()"
   ]
  },
  {
   "cell_type": "code",
   "execution_count": 14,
   "metadata": {},
   "outputs": [
    {
     "data": {
      "image/png": "[encoded data removed]",
      "text/plain": [
       "<Figure size 432x288 with 1 Axes>"
      ]
     },
     "metadata": {
      "needs_background": "light"
     },
     "output_type": "display_data"
    }
   ],
   "source": [
    "loss_values = [0.66,0.64,0.63,0.61,0.58,0.56,0.53,0.50,0.48,0.47]\n",
    "\n",
    "import matplotlib.pyplot as plt\n",
    "\n",
    "plt.plot(loss_values,'b-',label = 'train')\n",
    "plt.legend(loc=\"upper right\")\n",
    "plt.title(\"A3TGCN Loss curve\")\n",
    "plt.xlabel(\"Number of epochs\")\n",
    "plt.ylabel(\"Loss\")\n",
    "plt.savefig('foo.png')\n",
    "plt.show()\n"
   ]
  },
  {
   "cell_type": "code",
   "execution_count": null,
   "metadata": {},
   "outputs": [],
   "source": []
  }
 ],
 "metadata": {
  "accelerator": "GPU",
  "colab": {
   "collapsed_sections": [],
   "name": "traffic_prediction.ipynb",
   "provenance": []
  },
  "kernelspec": {
   "display_name": "Python 3 (ipykernel)",
   "language": "python",
   "name": "python3"
  },
  "language_info": {
   "codemirror_mode": {
    "name": "ipython",
    "version": 3
   },
   "file_extension": ".py",
   "mimetype": "text/x-python",
   "name": "python",
   "nbconvert_exporter": "python",
   "pygments_lexer": "ipython3",
   "version": "3.9.7"
  }
 },
 "nbformat": 4,
 "nbformat_minor": 1
}
